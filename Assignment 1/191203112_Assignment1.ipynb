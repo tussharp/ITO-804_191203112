{
 "cells": [
  {
   "attachments": {},
   "cell_type": "markdown",
   "metadata": {},
   "source": [
    "<h1><center><strong>Assignment 1</strong></center></h1>\n",
    "<h2><center><strong><code>Python Programming</code></strong></center></h2>"
   ]
  },
  {
   "attachments": {},
   "cell_type": "markdown",
   "metadata": {},
   "source": [
    "<code>Submitted by: Tusshar Pandit</code>\n",
    "<br>\n",
    "<code>Roll No: 191203112</code>\n",
    "<br>\n",
    "<code>Semester: 8th</code>"
   ]
  },
  {
   "attachments": {},
   "cell_type": "markdown",
   "metadata": {},
   "source": [
    "<p>Ques 1: Write a Python program that takes a list of daily stock prices as input, and returns the best days to buy and sell stocks in order to maximize profit. The list contains the stock prices for each day, starting from the first day. For example, the list (100, 180, 260, 310, 40, 535, 695) represents the stock prices for 7 days, where the price on the first day is 100, the second day is 180, and so on. The program should find the best days to buy and sell stocks such that the profit obtained is maximum</p>"
   ]
  },
  {
   "cell_type": "code",
   "execution_count": 1,
   "metadata": {},
   "outputs": [
    {
     "name": "stdout",
     "output_type": "stream",
     "text": [
      "Buy stock on day: 5\n",
      "Sell stock on day: 7\n"
     ]
    }
   ],
   "source": [
    "def maximize_profit(stock_prices):\n",
    "    buy_day = 0\n",
    "    sell_day = 0\n",
    "    max_profit = 0\n",
    "\n",
    "    for i in range(len(stock_prices)):\n",
    "        for j in range(i + 1, len(stock_prices)):\n",
    "            profit = stock_prices[j] - stock_prices[i]\n",
    "            if profit > max_profit:\n",
    "                max_profit = profit\n",
    "                buy_day = i + 1\n",
    "                sell_day = j + 1\n",
    "\n",
    "    return buy_day, sell_day\n",
    "\n",
    "# Example usage\n",
    "stock_prices = [100, 180, 260, 310, 40, 535, 695]\n",
    "buy_day, sell_day = maximize_profit(stock_prices)\n",
    "print(\"Buy stock on day:\", buy_day)\n",
    "print(\"Sell stock on day:\", sell_day)"
   ]
  },
  {
   "attachments": {},
   "cell_type": "markdown",
   "metadata": {},
   "source": [
    "<p> Ques 2: You are given a list of book titles and their corresponding publication years. Your task is to find the earliest year in which a trilogy of books was published. A trilogy is defined as a series of three books published in consecutive years. <br>\n",
    "titles = ['The Hunger Games', 'Catching Fire', 'Mockingjay', 'The Lord of the Rings', 'The Two Towers', 'The Return of the King', 'Divergent', 'Insurgent', 'Allegiant'] <br>\n",
    "years = [2008, 2009, 2010, 1954, 1955, 1956, 2011, 2012, 2013].</p>"
   ]
  },
  {
   "cell_type": "code",
   "execution_count": 2,
   "metadata": {},
   "outputs": [
    {
     "name": "stdout",
     "output_type": "stream",
     "text": [
      "The earliest year in which a trilogy was published is: 1954\n"
     ]
    }
   ],
   "source": [
    "def find_earliest_trilogy_year(titles, years):\n",
    "    earliest_year = None\n",
    "    # Sort the years list in ascending order\n",
    "    sorted_years = sorted(years)\n",
    "\n",
    "    for i in range(len(sorted_years) - 2):\n",
    "        # Check if the current year and the next two years form a trilogy\n",
    "        if sorted_years[i] + 1 == sorted_years[i + 1] and sorted_years[i + 1] + 1 == sorted_years[i + 2]:\n",
    "            earliest_year = sorted_years[i]\n",
    "            break\n",
    "    return earliest_year\n",
    "\n",
    "# Example usage\n",
    "titles = ['The Hunger Games', 'Catching Fire', 'Mockingjay', 'The Lord of the Rings', 'The Two Towers', 'The Return of the King', 'Divergent', 'Insurgent', 'Allegiant']\n",
    "years = [2008, 2009, 2010, 1954, 1955, 1956, 2011, 2012, 2013]\n",
    "earliest_year = find_earliest_trilogy_year(titles, years)\n",
    "if earliest_year:\n",
    "    print(\"The earliest year in which a trilogy was published is:\", earliest_year)\n",
    "else:\n",
    "    print(\"No trilogy was found in the given list of books and years.\")"
   ]
  },
  {
   "attachments": {},
   "cell_type": "markdown",
   "metadata": {},
   "source": [
    "<p>Ques 3: Write a Python program that reads in a CSV file of stock prices (e.g. ticker symbol, date, price), and then uses dictionaries and lists to calculate the highest and lowest prices for each stock</p>"
   ]
  },
  {
   "cell_type": "code",
   "execution_count": null,
   "metadata": {},
   "outputs": [],
   "source": [
    "\n",
    "import csv\n",
    "def calculate_high_low_prices(csv_file):\n",
    "    stock_prices = {}\n",
    "    with open(csv_file, 'r') as file:\n",
    "        csv_reader = csv.reader(file)\n",
    "        next(csv_reader)  # Skip the header row\n",
    "        for row in csv_reader:\n",
    "            ticker = row[0]\n",
    "            price = float(row[2])\n",
    "            if ticker not in stock_prices:\n",
    "                stock_prices[ticker] = [price]  # Initialize with the first price as both high and low\n",
    "            else:\n",
    "                # Update the high and low prices if necessary\n",
    "                if price > stock_prices[ticker][0]:\n",
    "                    stock_prices[ticker][0] = price  # Update the high price\n",
    "                elif price < stock_prices[ticker][1]:\n",
    "                    stock_prices[ticker][1] = price  # Update the low price\n",
    "\n",
    "    return stock_prices\n",
    "\n",
    "# Example usage\n",
    "csv_file = 'stock_prices.csv'  # Replace with the actual file name or path\n",
    "stock_prices = calculate_high_low_prices(csv_file)\n",
    "\n",
    "# Print the highest and lowest prices for each stock\n",
    "for ticker, prices in stock_prices.items():\n",
    "    print(\"Ticker:\", ticker)\n",
    "    print(\"Highest Price:\", prices[0])\n",
    "    print(\"Lowest Price:\", prices[1])\n",
    "    print(\"-\" * 30)"
   ]
  },
  {
   "attachments": {},
   "cell_type": "markdown",
   "metadata": {},
   "source": [
    "<p>Ques 4: (A) Write a Python program to remove duplicates from a list of lists. <br> \n",
    "Sample list: [[10, 20], [40], [30, 56, 25], [10, 20], [33], [40]]</p>"
   ]
  },
  {
   "cell_type": "code",
   "execution_count": 3,
   "metadata": {},
   "outputs": [
    {
     "name": "stdout",
     "output_type": "stream",
     "text": [
      "Original List of Lists:\n",
      "[[10, 20], [40], [30, 56, 25], [10, 20], [33], [40]]\n",
      "Unique List of Lists:\n",
      "[[10, 20], [40], [30, 56, 25], [33]]\n"
     ]
    }
   ],
   "source": [
    "def remove_duplicates(lst_of_lsts):\n",
    "    unique_lsts = []\n",
    "    for lst in lst_of_lsts:\n",
    "        if lst not in unique_lsts:\n",
    "            unique_lsts.append(lst)\n",
    "    return unique_lsts\n",
    "\n",
    "sample_list = [[10, 20], [40], [30, 56, 25], [10, 20], [33], [40]]\n",
    "\n",
    "# Call the function to remove duplicates\n",
    "unique_list_of_lists = remove_duplicates(sample_list)\n",
    "\n",
    "print(\"Original List of Lists:\")\n",
    "print(sample_list)\n",
    "print(\"Unique List of Lists:\")\n",
    "print(unique_list_of_lists)"
   ]
  },
  {
   "attachments": {},
   "cell_type": "markdown",
   "metadata": {},
   "source": [
    "<p>Ques 4: (B): Write a Python program which takes a list and returns a list with the elements \"shifted left by one position\" so [1, 2, 3] yields [2, 3, 1]. </p>"
   ]
  },
  {
   "cell_type": "code",
   "execution_count": 4,
   "metadata": {},
   "outputs": [
    {
     "name": "stdout",
     "output_type": "stream",
     "text": [
      "Original List:\n",
      "[1, 2, 3]\n",
      "Shifted List:\n",
      "[2, 3, 1]\n"
     ]
    }
   ],
   "source": [
    "def shift_left(lst):\n",
    "    if len(lst) <= 1:\n",
    "        return lst\n",
    "    shifted_lst = lst[1:] + [lst[0]]\n",
    "    return shifted_lst\n",
    "\n",
    "# Sample list\n",
    "sample_list = [1, 2, 3]\n",
    "\n",
    "# Call the function to shift left\n",
    "shifted_list = shift_left(sample_list)\n",
    "\n",
    "# Print the original and shifted list\n",
    "print(\"Original List:\")\n",
    "print(sample_list)\n",
    "print(\"Shifted List:\")\n",
    "print(shifted_list)\n"
   ]
  },
  {
   "attachments": {},
   "cell_type": "markdown",
   "metadata": {},
   "source": [
    "<p>Ques 4 (C) : Iterate a given list and count the occurrence of each element and create a dictionary to show the count of each element. \n",
    "<br>Original list [11, 45, 8, 11, 23, 45, 23, 45, 89, 11, 89] </p>"
   ]
  },
  {
   "cell_type": "code",
   "execution_count": 5,
   "metadata": {},
   "outputs": [
    {
     "name": "stdout",
     "output_type": "stream",
     "text": [
      "Original List:\n",
      "[11, 45, 8, 11, 23, 45, 23, 45, 89, 11, 89]\n",
      "Occurrence Dictionary:\n",
      "{11: 3, 45: 3, 8: 1, 23: 2, 89: 2}\n"
     ]
    }
   ],
   "source": [
    "def count_occurrences(lst):\n",
    "    count_dict = {}\n",
    "    for item in lst:\n",
    "        if item in count_dict:\n",
    "            count_dict[item] += 1\n",
    "        else:\n",
    "            count_dict[item] = 1\n",
    "    return count_dict\n",
    "\n",
    "# Original list\n",
    "original_list = [11, 45, 8, 11, 23, 45, 23, 45, 89, 11, 89]\n",
    "\n",
    "# Call the function to count occurrences\n",
    "occurrence_dict = count_occurrences(original_list)\n",
    "\n",
    "# Print the original list and the occurrence dictionary\n",
    "print(\"Original List:\")\n",
    "print(original_list)\n",
    "print(\"Occurrence Dictionary:\")\n",
    "print(occurrence_dict)"
   ]
  },
  {
   "cell_type": "markdown",
   "metadata": {},
   "source": []
  },
  {
   "cell_type": "markdown",
   "metadata": {},
   "source": []
  }
 ],
 "metadata": {
  "kernelspec": {
   "display_name": "Python 3",
   "language": "python",
   "name": "python3"
  },
  "language_info": {
   "codemirror_mode": {
    "name": "ipython",
    "version": 3
   },
   "file_extension": ".py",
   "mimetype": "text/x-python",
   "name": "python",
   "nbconvert_exporter": "python",
   "pygments_lexer": "ipython3",
   "version": "3.8.10"
  },
  "orig_nbformat": 4
 },
 "nbformat": 4,
 "nbformat_minor": 2
}
