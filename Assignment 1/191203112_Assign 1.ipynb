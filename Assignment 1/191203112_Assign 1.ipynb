
Assignment 1
Python Programming
Submitted by: Tusshar Pandit


Roll No: 191203112
Semester: 8th
Ques 1: Write a Python program that takes a list of daily stock prices as input, and returns the best days to buy and sell stocks in order to maximize profit. The list contains the stock prices for each day, starting from the first day. For example, the list (100, 180, 260, 310, 40, 535, 695) represents the stock prices for 7 days, where the price on the first day is 100, the second day is 180, and so on. The program should find the best days to buy and sell stocks such that the profit obtained is maximum

def maximize_profit(stock_prices):
    buy_day = 0
    sell_day = 0
    max_profit = 0

    for i in range(len(stock_prices)):
        for j in range(i + 1, len(stock_prices)):
            profit = stock_prices[j] - stock_prices[i]
            if profit > max_profit:
                max_profit = profit
                buy_day = i + 1
                sell_day = j + 1

    return buy_day, sell_day

# Example usage
stock_prices = [100, 180, 260, 310, 40, 535, 695]
buy_day, sell_day = maximize_profit(stock_prices)
print("Buy stock on day:", buy_day)
print("Sell stock on day:", sell_day)
Buy stock on day: 5
Sell stock on day: 7
Ques 2: You are given a list of book titles and their corresponding publication years. Your task is to find the earliest year in which a trilogy of books was published. A trilogy is defined as a series of three books published in consecutive years.
titles = ['The Hunger Games', 'Catching Fire', 'Mockingjay', 'The Lord of the Rings', 'The Two Towers', 'The Return of the King', 'Divergent', 'Insurgent', 'Allegiant']
years = [2008, 2009, 2010, 1954, 1955, 1956, 2011, 2012, 2013].

def find_earliest_trilogy_year(titles, years):
    earliest_year = None
    # Sort the years list in ascending order
    sorted_years = sorted(years)

    for i in range(len(sorted_years) - 2):
        # Check if the current year and the next two years form a trilogy
        if sorted_years[i] + 1 == sorted_years[i + 1] and sorted_years[i + 1] + 1 == sorted_years[i + 2]:
            earliest_year = sorted_years[i]
            break
    return earliest_year

# Example usage
titles = ['The Hunger Games', 'Catching Fire', 'Mockingjay', 'The Lord of the Rings', 'The Two Towers', 'The Return of the King', 'Divergent', 'Insurgent', 'Allegiant']
years = [2008, 2009, 2010, 1954, 1955, 1956, 2011, 2012, 2013]
earliest_year = find_earliest_trilogy_year(titles, years)
if earliest_year:
    print("The earliest year in which a trilogy was published is:", earliest_year)
else:
    print("No trilogy was found in the given list of books and years.")
The earliest year in which a trilogy was published is: 1954
Ques 3: Write a Python program that reads in a CSV file of stock prices (e.g. ticker symbol, date, price), and then uses dictionaries and lists to calculate the highest and lowest prices for each stock

import csv
def calculate_high_low_prices(csv_file):
    stock_prices = {}
    with open(csv_file, 'r') as file:
        csv_reader = csv.reader(file)
        next(csv_reader)  # Skip the header row
        for row in csv_reader:
            ticker = row[0]
            price = float(row[2])
            if ticker not in stock_prices:
                stock_prices[ticker] = [price]  # Initialize with the first price as both high and low
            else:
                # Update the high and low prices if necessary
                if price > stock_prices[ticker][0]:
                    stock_prices[ticker][0] = price  # Update the high price
                elif price < stock_prices[ticker][1]:
                    stock_prices[ticker][1] = price  # Update the low price

    return stock_prices

# Example usage
csv_file = 'stock_prices.csv'  # Replace with the actual file name or path
stock_prices = calculate_high_low_prices(csv_file)

# Print the highest and lowest prices for each stock
for ticker, prices in stock_prices.items():
    print("Ticker:", ticker)
    print("Highest Price:", prices[0])
    print("Lowest Price:", prices[1])
    print("-" * 30)
Ques 4: (A) Write a Python program to remove duplicates from a list of lists.
Sample list: [[10, 20], [40], [30, 56, 25], [10, 20], [33], [40]]

def remove_duplicates(lst_of_lsts):
    unique_lsts = []
    for lst in lst_of_lsts:
        if lst not in unique_lsts:
            unique_lsts.append(lst)
    return unique_lsts

sample_list = [[10, 20], [40], [30, 56, 25], [10, 20], [33], [40]]

# Call the function to remove duplicates
unique_list_of_lists = remove_duplicates(sample_list)

print("Original List of Lists:")
print(sample_list)
print("Unique List of Lists:")
print(unique_list_of_lists)
Original List of Lists:
[[10, 20], [40], [30, 56, 25], [10, 20], [33], [40]]
Unique List of Lists:
[[10, 20], [40], [30, 56, 25], [33]]
Ques 4: (B): Write a Python program which takes a list and returns a list with the elements "shifted left by one position" so [1, 2, 3] yields [2, 3, 1].

def shift_left(lst):
    if len(lst) <= 1:
        return lst
    shifted_lst = lst[1:] + [lst[0]]
    return shifted_lst

# Sample list
sample_list = [1, 2, 3]

# Call the function to shift left
shifted_list = shift_left(sample_list)

# Print the original and shifted list
print("Original List:")
print(sample_list)
print("Shifted List:")
print(shifted_list)
Original List:
[1, 2, 3]
Shifted List:
[2, 3, 1]
Ques 4 (C) : Iterate a given list and count the occurrence of each element and create a dictionary to show the count of each element.
Original list [11, 45, 8, 11, 23, 45, 23, 45, 89, 11, 89]

def count_occurrences(lst):
    count_dict = {}
    for item in lst:
        if item in count_dict:
            count_dict[item] += 1
        else:
            count_dict[item] = 1
    return count_dict

# Original list
original_list = [11, 45, 8, 11, 23, 45, 23, 45, 89, 11, 89]

# Call the function to count occurrences
occurrence_dict = count_occurrences(original_list)

# Print the original list and the occurrence dictionary
print("Original List:")
print(original_list)
print("Occurrence Dictionary:")
print(occurrence_dict)
Original List:
[11, 45, 8, 11, 23, 45, 23, 45, 89, 11, 89]
Occurrence Dictionary:
{11: 3, 45: 3, 8: 1, 23: 2, 89: 2}
